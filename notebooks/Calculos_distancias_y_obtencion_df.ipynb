{
 "cells": [
  {
   "cell_type": "code",
   "execution_count": null,
   "id": "81fd9147",
   "metadata": {},
   "outputs": [],
   "source": [
    "'''\n",
    "a = bicimad_df.apply(lambda row: distance_meters(bicimad_df['latitude'][0],\n",
    "                                                 bicimad_df['longitude'][0],\n",
    "                                                 public_schools_df['latitude'][0],\n",
    "                                                 public_schools_df['longitude'][0]))\n",
    "                                                 '''\n",
    "print(bicimad_df['latitude'][0])\n",
    "print(bicimad_df['longitude'][0])\n",
    "print(public_schools_df['location_latitude'][0])\n",
    "print(public_schools_df['location_longitude'][0])"
   ]
  },
  {
   "cell_type": "code",
   "execution_count": null,
   "id": "fff55066",
   "metadata": {},
   "outputs": [],
   "source": [
    "%%time\n",
    "\n",
    "# Transform latitude/longitude data in degrees to pseudo-mercator coordinates in metres. This will be a new column in each\n",
    "# of the dataframe calculated below: bicimad_df, bicipark_df and public_schools_df\n",
    "# bicimad_df['location_degree']\n",
    "\n",
    "public_schools_test = public_schools_df.iloc[0:2]\n",
    "bicimad_test = bicimad_df.iloc[0:10]\n",
    "\n",
    "#distances = pd.DataFrame()\n",
    "#results = pd.DataFrame()\n",
    "distances = pd.DataFrame(columns=['Distance'])\n",
    "results = pd.DataFrame(columns=['BiciMAD station', 'Station location', 'Distance': ])\n",
    "#count = 0\n",
    "\n",
    "for i in range(len(public_schools_test)):\n",
    "    for j in  range(len(bicimad_test)):\n",
    "        temp = distance_meters(bicimad_test['latitude'][j],   # Latitude start\n",
    "                               bicimad_test['longitude'][j],  # Longitude start\n",
    "                               public_schools_test['location_latitude'][i],   # Latitude finish\n",
    "                               public_schools_test['location_longitude'][i])   # Longitude finish\n",
    "        distances = pd.concat([distances, temp])\n",
    "        \n",
    "    \n",
    "    minimum = distances.min()\n",
    "    min_id = distances.idxmin()\n",
    "    \n",
    "    distances = pd.DataFrame()\n",
    "    min_serie = pd.DataFrame({'BiciMAD station': bicimad_test['address'][min_id], \n",
    "                              'Station location': bicimad_test['name'][min_id], \n",
    "                              'Distance': minimum[0]})\n",
    "                              \n",
    "  \n",
    "    #results.loc[i] = (bicimad_test['address'][min_id], bicimad_test['name'][min_id], minimum[0])\n",
    "    \n",
    "    #min_dict = (['BiciMAD station': bicimad_test['address'][min_id],\n",
    "    #            'Station location': bicimad_test['name'][min_id],\n",
    "    #            'Distance': minimum[0]])\n",
    "    \n",
    "    results = pd.concat([results, min_serie], axis=1)\n",
    "    \n",
    "results.head() "
   ]
  },
  {
   "cell_type": "code",
   "execution_count": null,
   "id": "c397412e",
   "metadata": {},
   "outputs": [],
   "source": [
    "%%time\n",
    "\n",
    "# Transform latitude/longitude data in degrees to pseudo-mercator coordinates in metres. This will be a new column in each\n",
    "# of the dataframe calculated below: bicimad_df, bicipark_df and public_schools_df\n",
    "# bicimad_df['location_degree']\n",
    "\n",
    "public_schools_test = public_schools_df.iloc[0:2]\n",
    "bicimad_test = bicimad_df.iloc[0:10]\n",
    "\n",
    "distances = pd.DataFrame()\n",
    "results = pd.DataFrame()\n",
    "#distances = pd.DataFrame(columns=['Distance'])\n",
    "#results = pd.DataFrame(columns=['BiciMAD station', 'Station location', 'Distance'])\n",
    "#count = 0\n",
    "\n",
    "for i in range(len(public_schools_test)):\n",
    "    for j in  range(len(bicimad_test)):\n",
    "        temp = distance_meters(bicimad_test['latitude'][j],   # Latitude start\n",
    "                               bicimad_test['longitude'][j],  # Longitude start\n",
    "                               public_schools_test['location_latitude'][i],   # Latitude finish\n",
    "                               public_schools_test['location_longitude'][i])   # Longitude finish\n",
    "        distances = pd.concat([distances, temp])\n",
    "        \n",
    "    \n",
    "    minimum = distances.min()\n",
    "    #min_id = distances.idxmin()\n",
    "    \n",
    "    #distances = pd.DataFrame()\n",
    "    #min_serie = pd.Serie([bicimad_test['address'][min_id], bicimad_test['name'][min_id], minimum[0]])\n",
    "    \n",
    "    #min_dict = (['BiciMAD station': bicimad_test['address'][min_id],\n",
    "    #            'Station location': bicimad_test['name'][min_id],\n",
    "    #            'Distance': minimum[0]])\n",
    "    \n",
    "    results = pd.concat([results, minimum])\n",
    "    \n",
    "results.head() "
   ]
  },
  {
   "cell_type": "code",
   "execution_count": null,
   "id": "b6840017",
   "metadata": {},
   "outputs": [],
   "source": [
    "dictionary = {'BiciMAD station': bicimad_test['address'][0], \n",
    "                          'Station location': bicimad_test['name'][0], \n",
    "                          'Distance': minimum[0]}"
   ]
  },
  {
   "cell_type": "code",
   "execution_count": null,
   "id": "5f0f8170",
   "metadata": {},
   "outputs": [],
   "source": [
    "result_df = merge_df.groupby('school_name')['distance'].min().reset_index()"
   ]
  },
  {
   "cell_type": "code",
   "execution_count": null,
   "id": "5773dc28",
   "metadata": {},
   "outputs": [],
   "source": [
    "colegio_suarez = df[df['school_name'] == 'Colegio Público Adolfo Suárez']\n",
    "colegio_suarez_shorted = colegio_suarez.sort_values(by='distance')"
   ]
  }
 ],
 "metadata": {
  "kernelspec": {
   "display_name": "Python (pm1_env)",
   "language": "python",
   "name": "pm1_env"
  },
  "language_info": {
   "codemirror_mode": {
    "name": "ipython",
    "version": 3
   },
   "file_extension": ".py",
   "mimetype": "text/x-python",
   "name": "python",
   "nbconvert_exporter": "python",
   "pygments_lexer": "ipython3",
   "version": "3.10.13"
  }
 },
 "nbformat": 4,
 "nbformat_minor": 5
}
