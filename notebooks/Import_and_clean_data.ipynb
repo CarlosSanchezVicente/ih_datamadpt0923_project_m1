{
 "cells": [
  {
   "cell_type": "markdown",
   "id": "5db96038",
   "metadata": {},
   "source": [
    "### Imports"
   ]
  },
  {
   "cell_type": "code",
   "execution_count": 64,
   "id": "fa84d039",
   "metadata": {},
   "outputs": [],
   "source": [
    "import pandas as pd\n",
    "import requests\n",
    "from bs4 import BeautifulSoup"
   ]
  },
  {
   "cell_type": "markdown",
   "id": "5acb9dbd",
   "metadata": {},
   "source": [
    "### Functions"
   ]
  },
  {
   "cell_type": "code",
   "execution_count": 56,
   "id": "1534d522",
   "metadata": {},
   "outputs": [],
   "source": [
    "# Function to transform and clean the dataframe import from csv\n",
    "def transform_df(df):\n",
    "    # Extract the column, delete '[' and ']'. Split the string using ',' and convert to float. Store this data in two\n",
    "    # columns: longitude and latitude. Add this two columns to the original dataframe\n",
    "    temp_df = df['geometry.coordinates'].str.strip('[]').str.split(',', expand=True).astype('float64')\n",
    "    temp_df.columns = ['longitude', 'latitude']\n",
    "    df= pd.concat([df,temp_df],axis=1)\n",
    "    \n",
    "    # Delete column 'geometry.coordinates' and 'Unnamed: 0' columns\n",
    "    df = df.drop(['Unnamed: 0', 'geometry.coordinates'], axis=1)\n",
    "    \n",
    "    # Change the name of 'geometry.type' column becase include '.' in the name, and it could be a potential error\n",
    "    df = df.rename(columns={'geometry.type':'geometry_type'})\n",
    "    \n",
    "    # In case the column names were e.g. 'stationId', extract each column name, if includes 'station', repleace that for \n",
    "    # ' '. And change the string to lowercase\n",
    "    columns = df.columns.tolist()\n",
    "    new_column_names = [column_name.replace('station', '').lower() for column_name in columns]\n",
    "    df.columns = new_column_names\n",
    "    \n",
    "    return df"
   ]
  },
  {
   "cell_type": "markdown",
   "id": "59eca21c",
   "metadata": {},
   "source": [
    "### Import and clean bicimap.csv"
   ]
  },
  {
   "cell_type": "code",
   "execution_count": 57,
   "id": "6eb13fba",
   "metadata": {},
   "outputs": [
    {
     "data": {
      "text/html": [
       "<div>\n",
       "<style scoped>\n",
       "    .dataframe tbody tr th:only-of-type {\n",
       "        vertical-align: middle;\n",
       "    }\n",
       "\n",
       "    .dataframe tbody tr th {\n",
       "        vertical-align: top;\n",
       "    }\n",
       "\n",
       "    .dataframe thead th {\n",
       "        text-align: right;\n",
       "    }\n",
       "</style>\n",
       "<table border=\"1\" class=\"dataframe\">\n",
       "  <thead>\n",
       "    <tr style=\"text-align: right;\">\n",
       "      <th></th>\n",
       "      <th>id</th>\n",
       "      <th>name</th>\n",
       "      <th>light</th>\n",
       "      <th>number</th>\n",
       "      <th>address</th>\n",
       "      <th>activate</th>\n",
       "      <th>no_available</th>\n",
       "      <th>total_bases</th>\n",
       "      <th>dock_bikes</th>\n",
       "      <th>free_bases</th>\n",
       "      <th>reservations_count</th>\n",
       "      <th>geometry_type</th>\n",
       "      <th>longitude</th>\n",
       "      <th>latitude</th>\n",
       "    </tr>\n",
       "  </thead>\n",
       "  <tbody>\n",
       "    <tr>\n",
       "      <th>0</th>\n",
       "      <td>1</td>\n",
       "      <td>1a - Puerta del Sol A</td>\n",
       "      <td>3</td>\n",
       "      <td>1a</td>\n",
       "      <td>Puerta del Sol nº 1</td>\n",
       "      <td>1</td>\n",
       "      <td>1</td>\n",
       "      <td>30</td>\n",
       "      <td>0</td>\n",
       "      <td>0</td>\n",
       "      <td>0</td>\n",
       "      <td>Point</td>\n",
       "      <td>-3.701834</td>\n",
       "      <td>40.417214</td>\n",
       "    </tr>\n",
       "    <tr>\n",
       "      <th>1</th>\n",
       "      <td>2</td>\n",
       "      <td>1b - Puerta del Sol B</td>\n",
       "      <td>3</td>\n",
       "      <td>1b</td>\n",
       "      <td>Puerta del Sol nº 1</td>\n",
       "      <td>1</td>\n",
       "      <td>1</td>\n",
       "      <td>30</td>\n",
       "      <td>0</td>\n",
       "      <td>0</td>\n",
       "      <td>0</td>\n",
       "      <td>Point</td>\n",
       "      <td>-3.701603</td>\n",
       "      <td>40.417313</td>\n",
       "    </tr>\n",
       "    <tr>\n",
       "      <th>2</th>\n",
       "      <td>3</td>\n",
       "      <td>2 - Miguel Moya</td>\n",
       "      <td>3</td>\n",
       "      <td>2</td>\n",
       "      <td>Calle Miguel Moya nº 1</td>\n",
       "      <td>1</td>\n",
       "      <td>1</td>\n",
       "      <td>24</td>\n",
       "      <td>0</td>\n",
       "      <td>0</td>\n",
       "      <td>0</td>\n",
       "      <td>Point</td>\n",
       "      <td>-3.705842</td>\n",
       "      <td>40.420589</td>\n",
       "    </tr>\n",
       "    <tr>\n",
       "      <th>3</th>\n",
       "      <td>4</td>\n",
       "      <td>3 - Plaza Conde Suchil</td>\n",
       "      <td>2</td>\n",
       "      <td>3</td>\n",
       "      <td>Plaza del Conde del Valle de Súchil nº 3</td>\n",
       "      <td>1</td>\n",
       "      <td>0</td>\n",
       "      <td>18</td>\n",
       "      <td>9</td>\n",
       "      <td>9</td>\n",
       "      <td>0</td>\n",
       "      <td>Point</td>\n",
       "      <td>-3.706917</td>\n",
       "      <td>40.430294</td>\n",
       "    </tr>\n",
       "    <tr>\n",
       "      <th>4</th>\n",
       "      <td>5</td>\n",
       "      <td>4 - Malasaña</td>\n",
       "      <td>1</td>\n",
       "      <td>4</td>\n",
       "      <td>Calle Manuela Malasaña nº 5</td>\n",
       "      <td>1</td>\n",
       "      <td>0</td>\n",
       "      <td>24</td>\n",
       "      <td>23</td>\n",
       "      <td>1</td>\n",
       "      <td>0</td>\n",
       "      <td>Point</td>\n",
       "      <td>-3.702587</td>\n",
       "      <td>40.428552</td>\n",
       "    </tr>\n",
       "  </tbody>\n",
       "</table>\n",
       "</div>"
      ],
      "text/plain": [
       "   id                    name  light number  \\\n",
       "0   1   1a - Puerta del Sol A      3     1a   \n",
       "1   2   1b - Puerta del Sol B      3     1b   \n",
       "2   3         2 - Miguel Moya      3      2   \n",
       "3   4  3 - Plaza Conde Suchil      2      3   \n",
       "4   5            4 - Malasaña      1      4   \n",
       "\n",
       "                                    address  activate  no_available  \\\n",
       "0                       Puerta del Sol nº 1         1             1   \n",
       "1                       Puerta del Sol nº 1         1             1   \n",
       "2                    Calle Miguel Moya nº 1         1             1   \n",
       "3  Plaza del Conde del Valle de Súchil nº 3         1             0   \n",
       "4               Calle Manuela Malasaña nº 5         1             0   \n",
       "\n",
       "   total_bases  dock_bikes  free_bases  reservations_count geometry_type  \\\n",
       "0           30           0           0                   0         Point   \n",
       "1           30           0           0                   0         Point   \n",
       "2           24           0           0                   0         Point   \n",
       "3           18           9           9                   0         Point   \n",
       "4           24          23           1                   0         Point   \n",
       "\n",
       "   longitude   latitude  \n",
       "0  -3.701834  40.417214  \n",
       "1  -3.701603  40.417313  \n",
       "2  -3.705842  40.420589  \n",
       "3  -3.706917  40.430294  \n",
       "4  -3.702587  40.428552  "
      ]
     },
     "execution_count": 57,
     "metadata": {},
     "output_type": "execute_result"
    }
   ],
   "source": [
    "bicimad_df = pd.read_csv(\"../data/bicimad_stations.csv\", sep='\\t')\n",
    "bicimad_df = transform_df(bicimad_df)\n",
    "bicimad_df.head()"
   ]
  },
  {
   "cell_type": "markdown",
   "id": "d1babde3",
   "metadata": {},
   "source": [
    "### Import and clean bicipark.csv"
   ]
  },
  {
   "cell_type": "code",
   "execution_count": 58,
   "id": "d1ffe1a8",
   "metadata": {},
   "outputs": [
    {
     "data": {
      "text/html": [
       "<div>\n",
       "<style scoped>\n",
       "    .dataframe tbody tr th:only-of-type {\n",
       "        vertical-align: middle;\n",
       "    }\n",
       "\n",
       "    .dataframe tbody tr th {\n",
       "        vertical-align: top;\n",
       "    }\n",
       "\n",
       "    .dataframe thead th {\n",
       "        text-align: right;\n",
       "    }\n",
       "</style>\n",
       "<table border=\"1\" class=\"dataframe\">\n",
       "  <thead>\n",
       "    <tr style=\"text-align: right;\">\n",
       "      <th></th>\n",
       "      <th>id</th>\n",
       "      <th>name</th>\n",
       "      <th>address</th>\n",
       "      <th>city</th>\n",
       "      <th>zip_code</th>\n",
       "      <th>total_places</th>\n",
       "      <th>free_places</th>\n",
       "      <th>enabled</th>\n",
       "      <th>reserved_places</th>\n",
       "      <th>geometry_type</th>\n",
       "      <th>longitude</th>\n",
       "      <th>latitude</th>\n",
       "    </tr>\n",
       "  </thead>\n",
       "  <tbody>\n",
       "    <tr>\n",
       "      <th>0</th>\n",
       "      <td>74</td>\n",
       "      <td>Bicipark Fuente de la Mora</td>\n",
       "      <td>Estación de Fuente de la Mora</td>\n",
       "      <td>Madrid</td>\n",
       "      <td>28050</td>\n",
       "      <td>10</td>\n",
       "      <td>9</td>\n",
       "      <td>1</td>\n",
       "      <td>0</td>\n",
       "      <td>Point</td>\n",
       "      <td>-3.663068</td>\n",
       "      <td>40.484684</td>\n",
       "    </tr>\n",
       "    <tr>\n",
       "      <th>1</th>\n",
       "      <td>22</td>\n",
       "      <td>Bicipark Orense</td>\n",
       "      <td>Avenida General Perón, 27</td>\n",
       "      <td>Madrid</td>\n",
       "      <td>28020</td>\n",
       "      <td>15</td>\n",
       "      <td>9</td>\n",
       "      <td>1</td>\n",
       "      <td>1</td>\n",
       "      <td>Point</td>\n",
       "      <td>-3.693897</td>\n",
       "      <td>40.452973</td>\n",
       "    </tr>\n",
       "    <tr>\n",
       "      <th>2</th>\n",
       "      <td>49</td>\n",
       "      <td>Bicipark Montalban</td>\n",
       "      <td>Calle de Montalbán, 5</td>\n",
       "      <td>Madrid</td>\n",
       "      <td>28014</td>\n",
       "      <td>16</td>\n",
       "      <td>15</td>\n",
       "      <td>1</td>\n",
       "      <td>0</td>\n",
       "      <td>Point</td>\n",
       "      <td>-3.690786</td>\n",
       "      <td>40.418146</td>\n",
       "    </tr>\n",
       "    <tr>\n",
       "      <th>3</th>\n",
       "      <td>12</td>\n",
       "      <td>Bicipark Almagro</td>\n",
       "      <td>Calle Almagro, 11</td>\n",
       "      <td>Madrid</td>\n",
       "      <td>28010</td>\n",
       "      <td>16</td>\n",
       "      <td>12</td>\n",
       "      <td>1</td>\n",
       "      <td>0</td>\n",
       "      <td>Point</td>\n",
       "      <td>-3.692879</td>\n",
       "      <td>40.430361</td>\n",
       "    </tr>\n",
       "    <tr>\n",
       "      <th>4</th>\n",
       "      <td>9</td>\n",
       "      <td>Bicipark Recoletos</td>\n",
       "      <td>Paseo de Recoletos, 2</td>\n",
       "      <td>Madrid</td>\n",
       "      <td>28001</td>\n",
       "      <td>10</td>\n",
       "      <td>3</td>\n",
       "      <td>0</td>\n",
       "      <td>0</td>\n",
       "      <td>Point</td>\n",
       "      <td>-3.692245</td>\n",
       "      <td>40.420354</td>\n",
       "    </tr>\n",
       "  </tbody>\n",
       "</table>\n",
       "</div>"
      ],
      "text/plain": [
       "   id                        name                        address     city  \\\n",
       "0  74  Bicipark Fuente de la Mora  Estación de Fuente de la Mora   Madrid   \n",
       "1  22             Bicipark Orense      Avenida General Perón, 27   Madrid   \n",
       "2  49          Bicipark Montalban          Calle de Montalbán, 5   Madrid   \n",
       "3  12            Bicipark Almagro              Calle Almagro, 11   Madrid   \n",
       "4   9          Bicipark Recoletos          Paseo de Recoletos, 2   Madrid   \n",
       "\n",
       "  zip_code  total_places  free_places  enabled  reserved_places geometry_type  \\\n",
       "0    28050            10            9        1                0         Point   \n",
       "1    28020            15            9        1                1         Point   \n",
       "2    28014            16           15        1                0         Point   \n",
       "3    28010            16           12        1                0         Point   \n",
       "4    28001            10            3        0                0         Point   \n",
       "\n",
       "   longitude   latitude  \n",
       "0  -3.663068  40.484684  \n",
       "1  -3.693897  40.452973  \n",
       "2  -3.690786  40.418146  \n",
       "3  -3.692879  40.430361  \n",
       "4  -3.692245  40.420354  "
      ]
     },
     "execution_count": 58,
     "metadata": {},
     "output_type": "execute_result"
    }
   ],
   "source": [
    "bicipark_df = pd.read_csv(\"../data/bicipark_stations.csv\", sep=';')\n",
    "bicipark_df = transform_df(bicipark_df)\n",
    "bicipark_df.head()"
   ]
  },
  {
   "cell_type": "markdown",
   "id": "4ed1b8a8",
   "metadata": {},
   "source": [
    "### Import json"
   ]
  },
  {
   "cell_type": "code",
   "execution_count": 61,
   "id": "a3c79246",
   "metadata": {},
   "outputs": [],
   "source": [
    "url = 'https://datos.madrid.es/egob/catalogo/202311-0-colegios-publicos.json'\n",
    "response = requests.get(url)"
   ]
  },
  {
   "cell_type": "code",
   "execution_count": 82,
   "id": "d6be23b5",
   "metadata": {},
   "outputs": [],
   "source": [
    "json_data = response.json()\n",
    "\n",
    "for i in range(len(json_data[\"@graph\"])):\n",
    "    #keys_list = list(json_data['@graph'][i].keys())\n",
    "    for j in range(len(json_data['@graph'][i])):\n",
    "        "
   ]
  },
  {
   "cell_type": "code",
   "execution_count": 98,
   "id": "29740ef7",
   "metadata": {},
   "outputs": [
    {
     "data": {
      "text/plain": [
       "{'@id': 'https://datos.madrid.es/egob/catalogo/tipo/entidadesyorganismos/176850-colegio-publico-adolfo-suarez.json',\n",
       " '@type': 'https://datos.madrid.es/egob/kos/entidadesYorganismos/CentrosEducacion/ColegiosPublicos',\n",
       " 'id': '176850',\n",
       " 'title': 'Colegio Público Adolfo Suárez',\n",
       " 'relation': 'http://www.madrid.es/sites/v/index.jsp?vgnextchannel=bfa48ab43d6bb410VgnVCM100000171f5a0aRCRD&vgnextoid=a9344b6faa61c010VgnVCM1000000b205a0aRCRD',\n",
       " 'address': {'district': {'@id': 'https://datos.madrid.es/egob/kos/Provincia/Madrid/Municipio/Madrid/Distrito/Hortaleza'},\n",
       "  'area': {'@id': 'https://datos.madrid.es/egob/kos/Provincia/Madrid/Municipio/Madrid/Distrito/Hortaleza/Barrio/Valdefuentes'},\n",
       "  'locality': 'MADRID',\n",
       "  'postal-code': '28050',\n",
       "  'street-address': 'CALLE INFANTA CATALINA MICAELA 31'},\n",
       " 'location': {'latitude': 40.48860266655876, 'longitude': -3.6525544243312855},\n",
       " 'organization': {'organization-desc': '\\xa0ENSEÑANZAS: Segundo ciclo de E. Infantil - Primaria - Educación Secundaria Obligatoria\\xa0BUS: 174',\n",
       "  'accesibility': '0',\n",
       "  'schedule': '',\n",
       "  'services': 'Comedor - Horario ampliado - Planes de mejora.',\n",
       "  'organization-name': 'Colegio Público Adolfo Suárez'}}"
      ]
     },
     "execution_count": 98,
     "metadata": {},
     "output_type": "execute_result"
    }
   ],
   "source": [
    "json_data[\"@graph\"][0]\n"
   ]
  },
  {
   "cell_type": "code",
   "execution_count": 95,
   "id": "1a55646d",
   "metadata": {},
   "outputs": [
    {
     "data": {
      "text/plain": [
       "'@id'"
      ]
     },
     "execution_count": 95,
     "metadata": {},
     "output_type": "execute_result"
    }
   ],
   "source": [
    "test = list(json_data['@graph'][0].keys())\n",
    "test[0]"
   ]
  },
  {
   "cell_type": "code",
   "execution_count": 94,
   "id": "f970b0c3",
   "metadata": {},
   "outputs": [
    {
     "data": {
      "text/plain": [
       "dict_keys(['@id', '@type', 'id', 'title', 'relation', 'address', 'location', 'organization'])"
      ]
     },
     "execution_count": 94,
     "metadata": {},
     "output_type": "execute_result"
    }
   ],
   "source": [
    "json_data['@graph'][0].keys()"
   ]
  },
  {
   "cell_type": "code",
   "execution_count": 97,
   "id": "8eae8dc5",
   "metadata": {},
   "outputs": [
    {
     "data": {
      "text/plain": [
       "8"
      ]
     },
     "execution_count": 97,
     "metadata": {},
     "output_type": "execute_result"
    }
   ],
   "source": [
    "len(json_data['@graph'][0])"
   ]
  },
  {
   "cell_type": "code",
   "execution_count": null,
   "id": "1a886862",
   "metadata": {},
   "outputs": [],
   "source": []
  }
 ],
 "metadata": {
  "kernelspec": {
   "display_name": "Python (pm1_env)",
   "language": "python",
   "name": "pm1_env"
  },
  "language_info": {
   "codemirror_mode": {
    "name": "ipython",
    "version": 3
   },
   "file_extension": ".py",
   "mimetype": "text/x-python",
   "name": "python",
   "nbconvert_exporter": "python",
   "pygments_lexer": "ipython3",
   "version": "3.10.13"
  }
 },
 "nbformat": 4,
 "nbformat_minor": 5
}
